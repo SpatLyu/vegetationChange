{
 "cells": [
  {
   "cell_type": "code",
   "execution_count": 1,
   "metadata": {},
   "outputs": [
    {
     "name": "stdout",
     "output_type": "stream",
     "text": [
      "<class 'pandas.core.frame.DataFrame'>\n",
      "RangeIndex: 59949 entries, 0 to 59948\n",
      "Data columns (total 15 columns):\n",
      " #   Column   Non-Null Count  Dtype  \n",
      "---  ------   --------------  -----  \n",
      " 0   Aspect   59949 non-null  float64\n",
      " 1   Elev     59949 non-null  int64  \n",
      " 2   Slope    59949 non-null  float64\n",
      " 3   PreMaxC  59949 non-null  float64\n",
      " 4   PreMinC  59949 non-null  float64\n",
      " 5   PreSumC  59949 non-null  float64\n",
      " 6   TmpMaxC  59949 non-null  float64\n",
      " 7   TmpMinC  59949 non-null  float64\n",
      " 8   TmpAvgC  59949 non-null  float64\n",
      " 9   NtlC     59949 non-null  float64\n",
      " 10  PdC      59949 non-null  float64\n",
      " 11  LuC      59949 non-null  float64\n",
      " 12  FVCC     59949 non-null  float64\n",
      " 13  Long     59949 non-null  float64\n",
      " 14  Lat      59949 non-null  float64\n",
      "dtypes: float64(14), int64(1)\n",
      "memory usage: 6.9 MB\n"
     ]
    }
   ],
   "source": [
    "import numpy as np\n",
    "import pandas as pd\n",
    "import geopandas as gpd\n",
    "import matplotlib.pyplot as plt \n",
    "\n",
    "data = pd.read_csv('./datasets/ds.csv')\n",
    "city = gpd.read_file('./datasets/省市县-湖泊/渭河流域地级市region.shp')\n",
    "data.info()"
   ]
  },
  {
   "cell_type": "code",
   "execution_count": 2,
   "metadata": {},
   "outputs": [
    {
     "data": {
      "text/html": [
       "<div>\n",
       "<style scoped>\n",
       "    .dataframe tbody tr th:only-of-type {\n",
       "        vertical-align: middle;\n",
       "    }\n",
       "\n",
       "    .dataframe tbody tr th {\n",
       "        vertical-align: top;\n",
       "    }\n",
       "\n",
       "    .dataframe thead th {\n",
       "        text-align: right;\n",
       "    }\n",
       "</style>\n",
       "<table border=\"1\" class=\"dataframe\">\n",
       "  <thead>\n",
       "    <tr style=\"text-align: right;\">\n",
       "      <th></th>\n",
       "      <th>Aspect</th>\n",
       "      <th>Elev</th>\n",
       "      <th>Slope</th>\n",
       "      <th>PreMaxC</th>\n",
       "      <th>PreMinC</th>\n",
       "      <th>PreSumC</th>\n",
       "      <th>TmpMaxC</th>\n",
       "      <th>TmpMinC</th>\n",
       "      <th>TmpAvgC</th>\n",
       "      <th>NtlC</th>\n",
       "      <th>PdC</th>\n",
       "      <th>LuC</th>\n",
       "    </tr>\n",
       "  </thead>\n",
       "  <tbody>\n",
       "    <tr>\n",
       "      <th>0</th>\n",
       "      <td>0.000000</td>\n",
       "      <td>2397</td>\n",
       "      <td>22.944578</td>\n",
       "      <td>-0.402857</td>\n",
       "      <td>-1.570677</td>\n",
       "      <td>-7.001504</td>\n",
       "      <td>-0.002331</td>\n",
       "      <td>-0.019850</td>\n",
       "      <td>-0.010138</td>\n",
       "      <td>0.0</td>\n",
       "      <td>-0.205263</td>\n",
       "      <td>1.0</td>\n",
       "    </tr>\n",
       "    <tr>\n",
       "      <th>1</th>\n",
       "      <td>0.000000</td>\n",
       "      <td>2466</td>\n",
       "      <td>28.421749</td>\n",
       "      <td>-0.468872</td>\n",
       "      <td>-1.566917</td>\n",
       "      <td>-7.987970</td>\n",
       "      <td>-0.002331</td>\n",
       "      <td>-0.016917</td>\n",
       "      <td>-0.010501</td>\n",
       "      <td>0.0</td>\n",
       "      <td>-0.201504</td>\n",
       "      <td>1.0</td>\n",
       "    </tr>\n",
       "    <tr>\n",
       "      <th>2</th>\n",
       "      <td>0.000000</td>\n",
       "      <td>2740</td>\n",
       "      <td>24.026747</td>\n",
       "      <td>-0.337068</td>\n",
       "      <td>-1.363910</td>\n",
       "      <td>-0.645865</td>\n",
       "      <td>-0.029774</td>\n",
       "      <td>-0.047970</td>\n",
       "      <td>-0.043152</td>\n",
       "      <td>0.0</td>\n",
       "      <td>-0.630075</td>\n",
       "      <td>1.0</td>\n",
       "    </tr>\n",
       "    <tr>\n",
       "      <th>3</th>\n",
       "      <td>0.000000</td>\n",
       "      <td>2388</td>\n",
       "      <td>23.283827</td>\n",
       "      <td>-0.401654</td>\n",
       "      <td>-1.560902</td>\n",
       "      <td>-2.743609</td>\n",
       "      <td>-0.021504</td>\n",
       "      <td>-0.036090</td>\n",
       "      <td>-0.031310</td>\n",
       "      <td>0.0</td>\n",
       "      <td>-0.129323</td>\n",
       "      <td>1.0</td>\n",
       "    </tr>\n",
       "    <tr>\n",
       "      <th>4</th>\n",
       "      <td>0.025615</td>\n",
       "      <td>2221</td>\n",
       "      <td>23.921211</td>\n",
       "      <td>-0.469549</td>\n",
       "      <td>-1.554135</td>\n",
       "      <td>-7.576692</td>\n",
       "      <td>-0.002331</td>\n",
       "      <td>-0.016917</td>\n",
       "      <td>-0.010457</td>\n",
       "      <td>0.0</td>\n",
       "      <td>-0.607519</td>\n",
       "      <td>1.0</td>\n",
       "    </tr>\n",
       "    <tr>\n",
       "      <th>5</th>\n",
       "      <td>0.399800</td>\n",
       "      <td>2172</td>\n",
       "      <td>18.808655</td>\n",
       "      <td>-0.500451</td>\n",
       "      <td>-1.554887</td>\n",
       "      <td>-7.614286</td>\n",
       "      <td>-0.002331</td>\n",
       "      <td>-0.015865</td>\n",
       "      <td>-0.010376</td>\n",
       "      <td>0.0</td>\n",
       "      <td>-0.178947</td>\n",
       "      <td>1.0</td>\n",
       "    </tr>\n",
       "  </tbody>\n",
       "</table>\n",
       "</div>"
      ],
      "text/plain": [
       "     Aspect  Elev      Slope   PreMaxC   PreMinC   PreSumC   TmpMaxC  \\\n",
       "0  0.000000  2397  22.944578 -0.402857 -1.570677 -7.001504 -0.002331   \n",
       "1  0.000000  2466  28.421749 -0.468872 -1.566917 -7.987970 -0.002331   \n",
       "2  0.000000  2740  24.026747 -0.337068 -1.363910 -0.645865 -0.029774   \n",
       "3  0.000000  2388  23.283827 -0.401654 -1.560902 -2.743609 -0.021504   \n",
       "4  0.025615  2221  23.921211 -0.469549 -1.554135 -7.576692 -0.002331   \n",
       "5  0.399800  2172  18.808655 -0.500451 -1.554887 -7.614286 -0.002331   \n",
       "\n",
       "    TmpMinC   TmpAvgC  NtlC       PdC  LuC  \n",
       "0 -0.019850 -0.010138   0.0 -0.205263  1.0  \n",
       "1 -0.016917 -0.010501   0.0 -0.201504  1.0  \n",
       "2 -0.047970 -0.043152   0.0 -0.630075  1.0  \n",
       "3 -0.036090 -0.031310   0.0 -0.129323  1.0  \n",
       "4 -0.016917 -0.010457   0.0 -0.607519  1.0  \n",
       "5 -0.015865 -0.010376   0.0 -0.178947  1.0  "
      ]
     },
     "execution_count": 2,
     "metadata": {},
     "output_type": "execute_result"
    }
   ],
   "source": [
    "# from sklearn.preprocessing import MinMaxScaler\n",
    "# min_max_scaler = MinMaxScaler()\n",
    "\n",
    "\n",
    "indepent_var = data.columns.to_list()[:12]\n",
    "repose_var = 'FVCC' \n",
    "\n",
    "X = data[indepent_var]\n",
    "y = data[repose_var]\n",
    "#X.iloc[:,1:] = min_max_scaler.fit_transform(data[indepent_var[1:]])\n",
    "#y = min_max_scaler.fit_transform(np.array(data[repose_var]).reshape(-1, 1))\n",
    "X.head(6)"
   ]
  },
  {
   "cell_type": "code",
   "execution_count": 3,
   "metadata": {},
   "outputs": [
    {
     "name": "stdout",
     "output_type": "stream",
     "text": [
      "<class 'pandas.core.frame.DataFrame'>\n",
      "RangeIndex: 59949 entries, 0 to 59948\n",
      "Data columns (total 12 columns):\n",
      " #   Column   Non-Null Count  Dtype  \n",
      "---  ------   --------------  -----  \n",
      " 0   Aspect   59949 non-null  float64\n",
      " 1   Elev     59949 non-null  int64  \n",
      " 2   Slope    59949 non-null  float64\n",
      " 3   PreMaxC  59949 non-null  float64\n",
      " 4   PreMinC  59949 non-null  float64\n",
      " 5   PreSumC  59949 non-null  float64\n",
      " 6   TmpMaxC  59949 non-null  float64\n",
      " 7   TmpMinC  59949 non-null  float64\n",
      " 8   TmpAvgC  59949 non-null  float64\n",
      " 9   NtlC     59949 non-null  float64\n",
      " 10  PdC      59949 non-null  float64\n",
      " 11  LuC      59949 non-null  float64\n",
      "dtypes: float64(11), int64(1)\n",
      "memory usage: 5.5 MB\n"
     ]
    }
   ],
   "source": [
    "X.info()"
   ]
  },
  {
   "cell_type": "code",
   "execution_count": null,
   "metadata": {},
   "outputs": [],
   "source": [
    "data = gpd.GeoDataFrame(data=data.iloc[:,:12],\n",
    "                        geometry=gpd.points_from_xy(data.lon,data.lat),\n",
    "                        crs=4326)\n",
    "data.head(6)"
   ]
  },
  {
   "cell_type": "code",
   "execution_count": null,
   "metadata": {},
   "outputs": [],
   "source": [
    "import matplotlib.colors as colors\n",
    "\n",
    "chars=[]\n",
    "for i in range(97,123):\n",
    "    chars.append(chr(i))\n",
    "\n",
    "cdict = ['#A9F090','#40B73F','#63B7FF','#0000FE','#FF00FC','#850042']\n",
    "pre_cmap = colors.ListedColormap(cdict) \n",
    "colormap = ['terrain','gist_earth','terrain',pre_cmap,pre_cmap,pre_cmap,\n",
    "            'jet','jet','jet','magma_r','magma_r','RdYlGn']\n",
    "\n",
    "plt.figure(figsize=(16,12))\n",
    "for i,col in enumerate(indepent_var+['FVCC']):\n",
    "\n",
    "    ax = plt.subplot(3,4,i+1)\n",
    "    data.plot(ax=ax,column=col,cmap=colormap[i],markersize = 0.001) \n",
    "    city.plot(ax=ax, ec = 'k', fc='none', linewidth = 0.1)    \n",
    "    im = plt.gca().get_children()[0]\n",
    "    bar = plt.colorbar(im,ax=ax,location='bottom',pad=0.05,\n",
    "                       aspect=30,extend='both',shrink=0.8)\n",
    "    bar.ax.tick_params(axis='x', which='major', direction='in')\n",
    "    ax.set_title(f'({chars[i]}){col}',fontsize=12,loc='left')\n",
    "    ax.set_xticks([])\n",
    "    ax.set_yticks([])\n",
    "plt.subplots_adjust(top=0.98, bottom=0, right=0.98, left=0.02,wspace=0.01, \n",
    "                    hspace=0.03)\n",
    "plt.margins(0.1, 0.1)\n",
    "plt.savefig('./figure/variable.png',dpi=600)"
   ]
  },
  {
   "attachments": {},
   "cell_type": "markdown",
   "metadata": {},
   "source": [
    "### XGBoost建模"
   ]
  },
  {
   "cell_type": "code",
   "execution_count": 4,
   "metadata": {},
   "outputs": [],
   "source": [
    "import xgboost\n",
    "import shap\n",
    "from sklearn.metrics import mean_squared_error, r2_score\n",
    "from sklearn.model_selection import train_test_split\n",
    "\n",
    "X_train, X_test, y_train, y_test = train_test_split(X, y, \n",
    "                                                    test_size = 0.2,\n",
    "                                                    random_state = 42)\n",
    "\n",
    "from hyperopt import fmin, tpe, hp, STATUS_OK, Trials, space_eval\n",
    "\n",
    "space = {\n",
    "    'max_depth':hp.choice('max_depth', np.arange(1, 45, 1, dtype=int)),\n",
    "    'colsample_bytree':hp.quniform('colsample_bytree', 0.1, 1.0, 0.05),\n",
    "    'min_child_weight':hp.choice('min_child_weight', np.arange(1, 45, 1, dtype=int)),\n",
    "    'subsample': hp.quniform('subsample', 0.1, 1.0, 0.05),\n",
    "    'learning_rate':hp.choice('learning_rate', np.arange(0.05, 1.0, 0.05)),\n",
    "    'gamma': hp.quniform('gamma', 0, 5, 0.05),\n",
    "    'objective': 'reg:squarederror',\n",
    "    'eval_metric': 'rmse',\n",
    "}\n",
    "\n",
    "def score(params, n_folds=5):\n",
    "    \n",
    "    #Cross-validation\n",
    "    d_train = xgboost.DMatrix(X,y)\n",
    "    \n",
    "    cv_results = xgboost.cv(params, d_train, nfold=n_folds, num_boost_round=1000,\n",
    "            early_stopping_rounds=10, metrics=['rmse'], seed=42)\n",
    "\n",
    "    \n",
    "    loss = min(cv_results['test-rmse-mean'])\n",
    "    \n",
    "    return loss\n",
    "\n",
    "\n",
    "def optimize(trials, space):\n",
    "    \n",
    "    best = fmin(score, space, algo=tpe.suggest, max_evals=750,\n",
    "                rstate = np.random.default_rng(42))\n",
    "    return best"
   ]
  },
  {
   "cell_type": "code",
   "execution_count": 5,
   "metadata": {},
   "outputs": [
    {
     "name": "stdout",
     "output_type": "stream",
     "text": [
      "100%|██████████| 750/750 [2:38:48<00:00, 12.70s/trial, best loss: 0.001979822693588394]   \n"
     ]
    },
    {
     "data": {
      "text/plain": [
       "{'colsample_bytree': 0.8,\n",
       " 'eval_metric': 'rmse',\n",
       " 'gamma': 0.0,\n",
       " 'learning_rate': 0.1,\n",
       " 'max_depth': 39,\n",
       " 'min_child_weight': 42,\n",
       " 'objective': 'reg:squarederror',\n",
       " 'subsample': 0.9}"
      ]
     },
     "execution_count": 5,
     "metadata": {},
     "output_type": "execute_result"
    }
   ],
   "source": [
    "trials = Trials()\n",
    "best_params = optimize(trials, space)\n",
    "\n",
    "# 运行最好的参数\n",
    "best_params = space_eval(space, best_params)\n",
    "best_params"
   ]
  },
  {
   "cell_type": "code",
   "execution_count": 6,
   "metadata": {},
   "outputs": [],
   "source": [
    "# 训练模型\n",
    "data_test = xgboost.DMatrix(X_test,y_test)\n",
    "data_train = xgboost.DMatrix(X_train,y_train)\n",
    "model = xgboost.train(best_params, data_train, \n",
    "                      num_boost_round=500, verbose_eval=False,\n",
    "                      evals=[(data_test, \"Test\")],\n",
    "                      early_stopping_rounds=10)"
   ]
  },
  {
   "cell_type": "code",
   "execution_count": 7,
   "metadata": {},
   "outputs": [],
   "source": [
    "# 保存模型\n",
    "import pickle\n",
    "pickle.dump(model, open(\"./result/xgboost_shap/model.second.dat\", \"wb\"))"
   ]
  },
  {
   "cell_type": "code",
   "execution_count": 8,
   "metadata": {},
   "outputs": [],
   "source": [
    "# 加载已经训练好的模型\n",
    "import pickle\n",
    "model = pickle.load(open(\"./result/xgboost_shap/model.second.dat\", \"rb\"))"
   ]
  },
  {
   "cell_type": "code",
   "execution_count": 9,
   "metadata": {},
   "outputs": [
    {
     "name": "stdout",
     "output_type": "stream",
     "text": [
      "XGBoost模型RMSE 0.0012543172523548306\n",
      "XGBoost模型R方 0.8691209591971689\n"
     ]
    }
   ],
   "source": [
    "import xgboost\n",
    "import shap\n",
    "from sklearn.metrics import mean_squared_error, r2_score\n",
    "\n",
    "data_all = xgboost.DMatrix(X)\n",
    "y_pred = model.predict(data_all)\n",
    "rmse = np.sqrt(mean_squared_error(y, y_pred))\n",
    "r2 = r2_score(y, y_pred)\n",
    "print(f'XGBoost模型RMSE {rmse}')\n",
    "print(f'XGBoost模型R方 {r2}')"
   ]
  },
  {
   "cell_type": "code",
   "execution_count": 10,
   "metadata": {},
   "outputs": [
    {
     "name": "stdout",
     "output_type": "stream",
     "text": [
      "LM模型RMSE 0.003009031090462741\n",
      "LM模型R方 0.2468028603916752\n"
     ]
    }
   ],
   "source": [
    "from sklearn.linear_model import LinearRegression\n",
    "lm = LinearRegression().fit(X,y)\n",
    "\n",
    "print(f'LM模型RMSE {np.sqrt(mean_squared_error(y, lm.predict(X)))}')\n",
    "print(f'LM模型R方 {r2_score(y, lm.predict(X))}')"
   ]
  },
  {
   "attachments": {},
   "cell_type": "markdown",
   "metadata": {},
   "source": [
    "### SHAP解释"
   ]
  },
  {
   "cell_type": "code",
   "execution_count": 11,
   "metadata": {},
   "outputs": [],
   "source": [
    "explainer = shap.TreeExplainer(model)\n",
    "shap_values = explainer.shap_values(X)\n",
    "shap_interaction_values = explainer.shap_interaction_values(X)\n",
    "\n",
    "np.save('./result/xgboost_shap/shap_values',shap_values)\n",
    "np.save('./result/xgboost_shap/shap_interaction_values',shap_interaction_values)"
   ]
  },
  {
   "cell_type": "code",
   "execution_count": 12,
   "metadata": {},
   "outputs": [],
   "source": [
    "shap_values = np.load('./result/xgboost_shap/shap_values.npy',allow_pickle=True)\n",
    "shap_interaction_values = np.load('./result/xgboost_shap/shap_interaction_values.npy',allow_pickle=True)\n",
    "pd.DataFrame(data=shap_interaction_values[:,np.arange(12), np.arange(12)],\n",
    "             columns=X.columns.to_list()).to_csv('./result/xgboost_shap/shap_independent_values.csv',\n",
    "            index=False)\n",
    "pd.DataFrame(data=shap_values,\n",
    "             columns=X.columns.to_list()).to_csv('./result/xgboost_shap/shap_interaction_values.csv',\n",
    "             index=False)"
   ]
  },
  {
   "cell_type": "code",
   "execution_count": null,
   "metadata": {},
   "outputs": [],
   "source": [
    "# Independent feature SHAP value order\n",
    "shap.summary_plot(shap_interaction_values[:,np.arange(15), np.arange(15)], \n",
    "                  X,plot_type= \"bar\",show=False)\n",
    "plt.savefig('./figure/xgboost_shap/Independent-feature-SHAP-value-order.png',dpi=600)"
   ]
  },
  {
   "cell_type": "code",
   "execution_count": null,
   "metadata": {},
   "outputs": [],
   "source": [
    "# Interaction feature SHAP value order\n",
    "shap.summary_plot(shap_values, X ,plot_type= \"bar\",show = False)\n",
    "plt.savefig('./figure/xgboost_shap/Interaction-feature-SHAP-value-order.png',dpi=600)"
   ]
  },
  {
   "cell_type": "code",
   "execution_count": null,
   "metadata": {},
   "outputs": [],
   "source": [
    "# Independent feature SHAP value order\n",
    "shap.summary_plot(shap_interaction_values[:,[i for i in range(11)],[i for i in range(11)]], \n",
    "                  X,plot_type= \"violin\",show=False)\n",
    "plt.savefig('./figure/xgboost_shap/Independent-Feature-order.png',dpi=600)"
   ]
  },
  {
   "cell_type": "code",
   "execution_count": null,
   "metadata": {},
   "outputs": [],
   "source": [
    "# Interaction feature SHAP value order\n",
    "shap.summary_plot(shap_values, X ,plot_type= \"violin\",show = False)\n",
    "plt.savefig('./figure/xgboost_shap/Interaction-Feature-order.png',dpi=600)"
   ]
  },
  {
   "cell_type": "code",
   "execution_count": null,
   "metadata": {},
   "outputs": [],
   "source": [
    "# 按SHAP值绝对值等于0 小于等于0.00001 小于等于0.0001查找SHAP值正负号改变时样本值\n",
    "import pandas as pd \n",
    "threshold_range = pd.DataFrame()\n",
    "\n",
    "a = 0\n",
    "for i,v in enumerate(indepent_var):\n",
    "    index = np.abs(shap_interaction_values[:,i,i])==0\n",
    "    if np.sum(index) == 0.0:\n",
    "        print(f'-------------- {v} 不存在等于 0 的 SHAP 值--------------') \n",
    "        index = np.abs(shap_interaction_values[:,i,i])<=0.00001\n",
    "        if np.sum(index) == 0.0:\n",
    "            index = np.abs(shap_interaction_values[:,i,i])<=0.0001\n",
    "    threshold_value = data[v][index]\n",
    "    min_t_value = np.min(threshold_value)\n",
    "    max_t_value = np.max(threshold_value)\n",
    "    threshold_range[v] = [min_t_value,max_t_value]\n",
    "    print(f\"{v}'s threshold_value {min_t_value:.4f} to {max_t_value:.4f}\")\n",
    "    \n",
    "threshold_range.to_excel('./result/xgboost_shap/Independent_threshold_range.xlsx')\n",
    "threshold_range"
   ]
  },
  {
   "cell_type": "code",
   "execution_count": null,
   "metadata": {},
   "outputs": [],
   "source": [
    "# Feature Independent SHAP value\n",
    "plt.figure(figsize=(25,15))\n",
    "for i,col in enumerate(indepent_var):\n",
    "    ax = plt.subplot(3,5,i+1)\n",
    "    ax.scatter(data[col], shap_interaction_values[:, i, i], color='grey',s=0.3)\n",
    "    ax.axhline(0,color='r', linestyle='--',)\n",
    "    ax.axvline(threshold_range[col][0],color='black', linestyle='--',)\n",
    "    ax.axvline(threshold_range[col][1],color='black', linestyle='--',)\n",
    "    ax.set_xlabel(col,fontsize=13)\n",
    "    if (i == 0) or (i ==5) or (i==10):\n",
    "        ax.set_ylabel(\"Feature Independent SHAP value\",fontsize=15)\n",
    "plt.savefig('./figure/xgboost_shap/Feature-Independent-SHAP-Value.png',dpi=600)"
   ]
  },
  {
   "cell_type": "code",
   "execution_count": null,
   "metadata": {},
   "outputs": [],
   "source": [
    "# 按SHAP值绝对值等于0 小于等于0.00001 小于等于0.0001查找SHAP值正负号改变时样本值\n",
    "import pandas as pd \n",
    "threshold_range = pd.DataFrame()\n",
    "\n",
    "a = 0\n",
    "for i,v in enumerate(indepent_var):\n",
    "    index = np.abs(shap_values[:, i])==0\n",
    "    if np.sum(index) == 0.0:\n",
    "        print(f'-------------- {v} 不存在等于 0 的 SHAP 值--------------') \n",
    "        index = np.abs(shap_values[:, i])<=0.00001\n",
    "        if np.sum(index) == 0.0:\n",
    "            index = np.abs(shap_values[:, i])<=0.0001\n",
    "    threshold_value = data[v][index]\n",
    "    min_t_value = np.min(threshold_value)\n",
    "    max_t_value = np.max(threshold_value)\n",
    "    threshold_range[v] = [min_t_value,max_t_value]\n",
    "    print(f\"{v}'s threshold_value {min_t_value:.4f} to {max_t_value:.4f}\")\n",
    "threshold_range.to_excel('./result/xgboost_shap/Interaction_threshold_range.xlsx')\n",
    "threshold_range"
   ]
  },
  {
   "cell_type": "code",
   "execution_count": null,
   "metadata": {},
   "outputs": [],
   "source": [
    "# Interaction Feature SHAP Value\n",
    "plt.figure(figsize=(25,15))\n",
    "for i,col in enumerate(indepent_var):\n",
    "    ax = plt.subplot(3,5,i+1)\n",
    "    ax.scatter(data[col], shap_values[:, i], color='grey',s=0.3)\n",
    "    ax.axhline(0,color='r', linestyle='--',)\n",
    "    ax.axvline(threshold_range[col][0],color='black', linestyle='--',)\n",
    "    ax.axvline(threshold_range[col][1],color='black', linestyle='--',)\n",
    "    ax.set_xlabel(col,fontsize=13)\n",
    "    if (i == 0) or (i ==5) or (i==10):\n",
    "        ax.set_ylabel(\"Feature Interaction SHAP value\",fontsize=15)\n",
    "plt.savefig('./figure/xgboost_shap/Interaction-Feature-SHAP-Value.png',dpi=600)"
   ]
  },
  {
   "cell_type": "code",
   "execution_count": null,
   "metadata": {},
   "outputs": [],
   "source": [
    "# Indenpendent feature map\n",
    "chars=[]\n",
    "for i in range(97,123):\n",
    "    chars.append(chr(i))\n",
    "    \n",
    "plt.figure(figsize=(20,13.5))\n",
    "for i,col in enumerate(indepent_var):\n",
    "    ax = plt.subplot(3,4,i+1)\n",
    "    city.plot(ax=ax, ec = 'k', fc='none', linewidth = 0.5)\n",
    "    data.assign(cl=shap_interaction_values[:,i,i]) \\\n",
    "        .plot(ax=ax,column='cl',\n",
    "              cmap=shap.plots.colors.red_white_blue,\n",
    "              vmin=np.min(shap_interaction_values[:,i,i]), \n",
    "              vmax=np.max(shap_interaction_values[:,i,i]),\n",
    "              markersize = 0.001)\n",
    "    im = plt.gca().get_children()[0]\n",
    "    bar = plt.colorbar(im,ax=ax,location='bottom',pad=0.05,\n",
    "                       aspect=30,extend='both',shrink=0.8)\n",
    "    bar.ax.tick_params(axis='x', which='major', direction='in')\n",
    "    ax.set_title(f'({chars[i]}){col}',fontsize=15,loc='left')\n",
    "    ax.set_xticks([])\n",
    "    ax.set_yticks([])\n",
    "plt.subplots_adjust(top=0.98, bottom=0, right=0.98, left=0.02,wspace=0.01, \n",
    "                    hspace=0.03)\n",
    "plt.margins(0.1, 0.1)\n",
    "plt.savefig('./figure/xgboost_shap/Indenpendent-Feature-Map.png',dpi=600)"
   ]
  },
  {
   "cell_type": "code",
   "execution_count": null,
   "metadata": {},
   "outputs": [],
   "source": [
    "# Interaction feature map\n",
    "plt.figure(figsize=(20,13.5))\n",
    "for i,col in enumerate(indepent_var):\n",
    "    ax = plt.subplot(3,4,i+1)\n",
    "    city.plot(ax=ax, ec = 'k', fc='none', linewidth = 0.5) \n",
    "    data.assign(cl=shap_values[:, i]) \\\n",
    "        .plot(ax=ax,column='cl',\n",
    "            cmap=shap.plots.colors.red_white_blue,\n",
    "            markersize = 0.001)\n",
    "       \n",
    "    im = plt.gca().get_children()[0]\n",
    "    bar = plt.colorbar(im,ax=ax,location='bottom',pad=0.05,\n",
    "                       aspect=30,extend='both',shrink=0.8)\n",
    "    bar.ax.tick_params(axis='x', which='major', direction='in')\n",
    "    ax.set_title(f'({chars[i]}){col}',fontsize=15,loc='left')\n",
    "    ax.set_xticks([])\n",
    "    ax.set_yticks([])\n",
    "plt.subplots_adjust(top=0.98, bottom=0, right=0.98, left=0.02,wspace=0.01, \n",
    "                    hspace=0.03)\n",
    "plt.margins(0.1, 0.1)\n",
    "plt.savefig('./figure/xgboost_shap/Interaction-Feature-Map.png',dpi=600)"
   ]
  },
  {
   "cell_type": "code",
   "execution_count": null,
   "metadata": {},
   "outputs": [],
   "source": [
    "for i in indepent_var:\n",
    "    for j in indepent_var:\n",
    "        if i == j :\n",
    "            continue\n",
    "        else:\n",
    "            shap.dependence_plot(i, shap_values, X, interaction_index=j,show=False)\n",
    "            plt.savefig(f'./figure/xgboost_shap/feature_dependence/{i}-{j}.png',dpi=600)"
   ]
  }
 ],
 "metadata": {
  "kernelspec": {
   "display_name": "geoai",
   "language": "python",
   "name": "python3"
  },
  "language_info": {
   "codemirror_mode": {
    "name": "ipython",
    "version": 3
   },
   "file_extension": ".py",
   "mimetype": "text/x-python",
   "name": "python",
   "nbconvert_exporter": "python",
   "pygments_lexer": "ipython3",
   "version": "3.9.18"
  },
  "orig_nbformat": 4,
  "vscode": {
   "interpreter": {
    "hash": "0b0c6875a95caf51f89fc3e73143974fbaf6965b74d6f2acc3f7fa42822877c4"
   }
  }
 },
 "nbformat": 4,
 "nbformat_minor": 2
}
